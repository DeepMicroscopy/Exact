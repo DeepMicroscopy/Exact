{
 "cells": [
  {
   "cell_type": "markdown",
   "id": "34811368",
   "metadata": {},
   "source": [
    "Example for cropping an image"
   ]
  },
  {
   "cell_type": "code",
   "execution_count": null,
   "id": "956ea189",
   "metadata": {},
   "outputs": [
    {
     "name": "stdout",
     "output_type": "stream",
     "text": [
      "The autoreload extension is already loaded. To reload it, use:\n",
      "  %reload_ext autoreload\n"
     ]
    }
   ],
   "source": [
    "%load_ext autoreload\n",
    "%autoreload 2\n",
    "from exact_sync.v1.api.images_api import ImagesApi\n",
    "from exact_sync.v1.configuration import Configuration\n",
    "from exact_sync.v1.api_client import ApiClient\n",
    " \n",
    "configuration = Configuration()\n",
    "configuration.username = ''\n",
    "configuration.password = ''\n",
    "configuration.host = \"http://127.0.0.1:8000\"\n",
    "\n",
    "client = ApiClient(configuration)\n",
    "images_api = ImagesApi(client)"
   ]
  },
  {
   "cell_type": "code",
   "execution_count": 35,
   "id": "76e41be3",
   "metadata": {},
   "outputs": [],
   "source": [
    "out = images_api.crop_image_from_image(35, x=30000, y=45000, z=0, w=4000,h=4000,target_imageset_id=2)\n"
   ]
  },
  {
   "cell_type": "code",
   "execution_count": 36,
   "id": "0cb3eaf7",
   "metadata": {},
   "outputs": [
    {
     "name": "stdout",
     "output_type": "stream",
     "text": [
      "{'annotations': [],\n",
      " 'filename': 'E1586_09_Ax30000_y45000_z0_w4000_h4000.tiff',\n",
      " 'height': 4000,\n",
      " 'id': 47,\n",
      " 'image_set': 2,\n",
      " 'image_type': 0,\n",
      " 'mpp': 0.248654701779702,\n",
      " 'name': 'E1586_09_Ax30000_y45000_z0_w4000_h4000.tiff',\n",
      " 'objective_power': 40.0,\n",
      " 'time': datetime.datetime(2025, 5, 30, 12, 32, 27, 681391),\n",
      " 'width': 4000}\n"
     ]
    }
   ],
   "source": [
    "print(out)"
   ]
  }
 ],
 "metadata": {
  "kernelspec": {
   "display_name": "env311",
   "language": "python",
   "name": "python3"
  },
  "language_info": {
   "codemirror_mode": {
    "name": "ipython",
    "version": 3
   },
   "file_extension": ".py",
   "mimetype": "text/x-python",
   "name": "python",
   "nbconvert_exporter": "python",
   "pygments_lexer": "ipython3",
   "version": "3.11.9"
  }
 },
 "nbformat": 4,
 "nbformat_minor": 5
}
